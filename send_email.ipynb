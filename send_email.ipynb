{
 "cells": [
  {
   "cell_type": "code",
   "execution_count": 49,
   "id": "21960134",
   "metadata": {},
   "outputs": [],
   "source": [
    "# Author: Arthur Prigent\n",
    "#EMail: aprigent@ictp.it"
   ]
  },
  {
   "cell_type": "code",
   "execution_count": 50,
   "id": "6f9b2f8c",
   "metadata": {},
   "outputs": [],
   "source": [
    "# Author: Arthur Prigent\n",
    "# Email: aprigent@ictp.it\n",
    "\n",
    "#### DATA ####\n",
    "# https://downloads.psl.noaa.gov/Datasets/\n",
    "from functions import *\n",
    "import warnings\n",
    "warnings.filterwarnings(\"ignore\")\n",
    "from IPython.display import Image"
   ]
  },
  {
   "cell_type": "code",
   "execution_count": 51,
   "id": "0b032e32",
   "metadata": {},
   "outputs": [],
   "source": [
    "path_ersstv5 = 'https://psl.noaa.gov/thredds/dodsC/Datasets/noaa.ersst.v5/sst.mnmean.nc'\n",
    "(ssta_atl3_norm_ersst,ssta_aba_norm_ersst,\n",
    " ssta_nino34_norm_ersst,ssta_dni_norm_ersst,\n",
    " ssta_cni_norm_ersst,ssta_nni_norm_ersst,iod_ersst) = read_data_compute_anomalies_ersstv5(path_ersstv5)"
   ]
  },
  {
   "cell_type": "code",
   "execution_count": 52,
   "id": "ed2ed5b2",
   "metadata": {},
   "outputs": [],
   "source": [
    "last_timesteps = [str(ssta_atl3_norm_ersst.time[-3].values)[:7],\n",
    "str(ssta_atl3_norm_ersst.time[-2].values)[:7],\n",
    "str(ssta_atl3_norm_ersst.time[-1].values)[:7]]\n",
    "\n"
   ]
  },
  {
   "cell_type": "code",
   "execution_count": 53,
   "id": "f4cbbf04",
   "metadata": {},
   "outputs": [],
   "source": [
    "import os\n",
    "mail_sender = os.environ.get(\"MAIL_SENDER\")\n",
    "password = os.environ.get(\"PASSWORD_MAIL\")\n",
    "\n"
   ]
  },
  {
   "cell_type": "code",
   "execution_count": 54,
   "id": "48579660",
   "metadata": {},
   "outputs": [
    {
     "ename": "AttributeError",
     "evalue": "'NoneType' object has no attribute 'encode'",
     "output_type": "error",
     "traceback": [
      "\u001b[0;31m---------------------------------------------------------------------------\u001b[0m",
      "\u001b[0;31mAttributeError\u001b[0m                            Traceback (most recent call last)",
      "Cell \u001b[0;32mIn[54], line 19\u001b[0m\n\u001b[1;32m     16\u001b[0m server\u001b[38;5;241m.\u001b[39mstarttls()\n\u001b[1;32m     18\u001b[0m \u001b[38;5;66;03m# Log in to your Gmail account\u001b[39;00m\n\u001b[0;32m---> 19\u001b[0m \u001b[43mserver\u001b[49m\u001b[38;5;241;43m.\u001b[39;49m\u001b[43mlogin\u001b[49m\u001b[43m(\u001b[49m\u001b[43msender_email\u001b[49m\u001b[43m,\u001b[49m\u001b[43m \u001b[49m\u001b[43msender_password\u001b[49m\u001b[43m)\u001b[49m\n\u001b[1;32m     21\u001b[0m \u001b[38;5;66;03m# Create the email message\u001b[39;00m\n\u001b[1;32m     22\u001b[0m subject \u001b[38;5;241m=\u001b[39m \u001b[38;5;124m\"\u001b[39m\u001b[38;5;124mTropical Atlantic Variability update\u001b[39m\u001b[38;5;124m\"\u001b[39m\n",
      "File \u001b[0;32m~/miniconda3/envs/py3_std/lib/python3.11/smtplib.py:739\u001b[0m, in \u001b[0;36mSMTP.login\u001b[0;34m(self, user, password, initial_response_ok)\u001b[0m\n\u001b[1;32m    737\u001b[0m method_name \u001b[38;5;241m=\u001b[39m \u001b[38;5;124m'\u001b[39m\u001b[38;5;124mauth_\u001b[39m\u001b[38;5;124m'\u001b[39m \u001b[38;5;241m+\u001b[39m authmethod\u001b[38;5;241m.\u001b[39mlower()\u001b[38;5;241m.\u001b[39mreplace(\u001b[38;5;124m'\u001b[39m\u001b[38;5;124m-\u001b[39m\u001b[38;5;124m'\u001b[39m, \u001b[38;5;124m'\u001b[39m\u001b[38;5;124m_\u001b[39m\u001b[38;5;124m'\u001b[39m)\n\u001b[1;32m    738\u001b[0m \u001b[38;5;28;01mtry\u001b[39;00m:\n\u001b[0;32m--> 739\u001b[0m     (code, resp) \u001b[38;5;241m=\u001b[39m \u001b[38;5;28;43mself\u001b[39;49m\u001b[38;5;241;43m.\u001b[39;49m\u001b[43mauth\u001b[49m\u001b[43m(\u001b[49m\n\u001b[1;32m    740\u001b[0m \u001b[43m        \u001b[49m\u001b[43mauthmethod\u001b[49m\u001b[43m,\u001b[49m\u001b[43m \u001b[49m\u001b[38;5;28;43mgetattr\u001b[39;49m\u001b[43m(\u001b[49m\u001b[38;5;28;43mself\u001b[39;49m\u001b[43m,\u001b[49m\u001b[43m \u001b[49m\u001b[43mmethod_name\u001b[49m\u001b[43m)\u001b[49m\u001b[43m,\u001b[49m\n\u001b[1;32m    741\u001b[0m \u001b[43m        \u001b[49m\u001b[43minitial_response_ok\u001b[49m\u001b[38;5;241;43m=\u001b[39;49m\u001b[43minitial_response_ok\u001b[49m\u001b[43m)\u001b[49m\n\u001b[1;32m    742\u001b[0m     \u001b[38;5;66;03m# 235 == 'Authentication successful'\u001b[39;00m\n\u001b[1;32m    743\u001b[0m     \u001b[38;5;66;03m# 503 == 'Error: already authenticated'\u001b[39;00m\n\u001b[1;32m    744\u001b[0m     \u001b[38;5;28;01mif\u001b[39;00m code \u001b[38;5;129;01min\u001b[39;00m (\u001b[38;5;241m235\u001b[39m, \u001b[38;5;241m503\u001b[39m):\n",
      "File \u001b[0;32m~/miniconda3/envs/py3_std/lib/python3.11/smtplib.py:652\u001b[0m, in \u001b[0;36mSMTP.auth\u001b[0;34m(self, mechanism, authobject, initial_response_ok)\u001b[0m\n\u001b[1;32m    649\u001b[0m \u001b[38;5;28mself\u001b[39m\u001b[38;5;241m.\u001b[39m_auth_challenge_count \u001b[38;5;241m+\u001b[39m\u001b[38;5;241m=\u001b[39m \u001b[38;5;241m1\u001b[39m\n\u001b[1;32m    650\u001b[0m challenge \u001b[38;5;241m=\u001b[39m base64\u001b[38;5;241m.\u001b[39mdecodebytes(resp)\n\u001b[1;32m    651\u001b[0m response \u001b[38;5;241m=\u001b[39m encode_base64(\n\u001b[0;32m--> 652\u001b[0m     \u001b[43mauthobject\u001b[49m\u001b[43m(\u001b[49m\u001b[43mchallenge\u001b[49m\u001b[43m)\u001b[49m\u001b[38;5;241;43m.\u001b[39;49m\u001b[43mencode\u001b[49m(\u001b[38;5;124m'\u001b[39m\u001b[38;5;124mascii\u001b[39m\u001b[38;5;124m'\u001b[39m), eol\u001b[38;5;241m=\u001b[39m\u001b[38;5;124m'\u001b[39m\u001b[38;5;124m'\u001b[39m)\n\u001b[1;32m    653\u001b[0m (code, resp) \u001b[38;5;241m=\u001b[39m \u001b[38;5;28mself\u001b[39m\u001b[38;5;241m.\u001b[39mdocmd(response)\n\u001b[1;32m    654\u001b[0m \u001b[38;5;66;03m# If server keeps sending challenges, something is wrong.\u001b[39;00m\n",
      "\u001b[0;31mAttributeError\u001b[0m: 'NoneType' object has no attribute 'encode'"
     ]
    }
   ],
   "source": [
    "import smtplib\n",
    "from email.mime.text import MIMEText\n",
    "from email.mime.multipart import MIMEMultipart\n",
    "\n",
    "# Set your email and password\n",
    "sender_email = mail_sender\n",
    "sender_password = password\n",
    "\n",
    "# Set the recipient email address\n",
    "recipient_email = \"aprigent@ictp.it\"\n",
    "smtp_server = \"smtp.gmail.com\"\n",
    "smtp_port = 587\n",
    "\n",
    "# Start the server\n",
    "server = smtplib.SMTP(smtp_server, smtp_port)\n",
    "server.starttls()\n",
    "\n",
    "# Log in to your Gmail account\n",
    "server.login(sender_email, sender_password)\n",
    "\n",
    "# Create the email message\n",
    "subject = \"Tropical Atlantic Variability update\"\n",
    "body = (\"Hello!\\n\"\n",
    "        f\"Please find at the following link a little update on the current state of the tropics for the last three timesteps: {last_timesteps} \\n\"\n",
    "        \"Last three standardized anomalies from ERSSTv5:\\n\"\n",
    "        f\"ATL3: {np.round(ssta_atl3_norm_ersst[-3:],2).values}. \\n\"\n",
    "        f\"ABA: {np.round(ssta_aba_norm_ersst[-3:],2).values}. \\n\"\n",
    "        f\"NINO3.4: {np.round(ssta_nino34_norm_ersst[-3:],2).values}. \\n\"\n",
    "        f\"DNI: {np.round(ssta_dni_norm_ersst[-3:],2).values}. \\n\"\n",
    "\n",
    "        \"Best regards,\\n\"\n",
    "        \"Arthur Prigent\\n\\n\"\n",
    "        \"https://aprig.github.io/ATL3_ABA_SSTa/automatic_time_series_SST.html\")\n",
    "\n",
    "message = MIMEMultipart()\n",
    "message['From'] = sender_email\n",
    "message['To'] = recipient_email\n",
    "message['Subject'] = subject\n",
    "message.attach(MIMEText(body, 'plain'))\n",
    "\n",
    "# Send the email\n",
    "server.sendmail(sender_email, recipient_email, message.as_string())\n",
    "\n",
    "# Quit the server\n",
    "server.quit()\n"
   ]
  },
  {
   "cell_type": "code",
   "execution_count": null,
   "id": "d475a0f1",
   "metadata": {},
   "outputs": [],
   "source": []
  }
 ],
 "metadata": {
  "kernelspec": {
   "display_name": "Python 3 (ipykernel)",
   "language": "python",
   "name": "python3"
  },
  "language_info": {
   "codemirror_mode": {
    "name": "ipython",
    "version": 3
   },
   "file_extension": ".py",
   "mimetype": "text/x-python",
   "name": "python",
   "nbconvert_exporter": "python",
   "pygments_lexer": "ipython3",
   "version": "3.11.0"
  }
 },
 "nbformat": 4,
 "nbformat_minor": 5
}
