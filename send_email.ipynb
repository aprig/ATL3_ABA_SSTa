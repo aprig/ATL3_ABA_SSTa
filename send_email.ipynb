{
 "cells": [
  {
   "cell_type": "code",
   "execution_count": 6,
   "id": "21960134",
   "metadata": {},
   "outputs": [],
   "source": [
    "# Author: Arthur Prigent\n",
    "#EMail: aprigent@ictp.it"
   ]
  },
  {
   "cell_type": "code",
   "execution_count": 6,
   "id": "6f9b2f8c",
   "metadata": {},
   "outputs": [
    {
     "name": "stdout",
     "output_type": "stream",
     "text": [
      "2024-03-26 10:21:36.591004\n"
     ]
    }
   ],
   "source": [
    "# Author: Arthur Prigent\n",
    "# Email: aprigent@ictp.it\n",
    "\n",
    "#### DATA ####\n",
    "# https://downloads.psl.noaa.gov/Datasets/\n",
    "from functions import *\n",
    "import warnings\n",
    "warnings.filterwarnings(\"ignore\")\n",
    "from IPython.display import Image"
   ]
  },
  {
   "cell_type": "code",
   "execution_count": 7,
   "id": "99722fc7",
   "metadata": {},
   "outputs": [],
   "source": [
    "path_ersstv5 = 'https://psl.noaa.gov/thredds/dodsC/Datasets/noaa.ersst.v5/sst.mnmean.nc'\n",
    "(ssta_atl3_norm_ersst,ssta_aba_norm_ersst,\n",
    " ssta_nino34_norm_ersst,ssta_dni_norm_ersst,\n",
    " ssta_cni_norm_ersst,ssta_nni_norm_ersst,iod_ersst) = read_data_compute_anomalies_ersstv5(path_ersstv5)"
   ]
  },
  {
   "cell_type": "code",
   "execution_count": 42,
   "id": "81357b40",
   "metadata": {},
   "outputs": [
    {
     "data": {
      "text/plain": [
       "['2023-12', '2024-01', '2024-02']"
      ]
     },
     "execution_count": 42,
     "metadata": {},
     "output_type": "execute_result"
    }
   ],
   "source": [
    "last_timesteps = [str(ssta_atl3_norm_ersst.time[-3].values)[:7],\n",
    "str(ssta_atl3_norm_ersst.time[-2].values)[:7],\n",
    "str(ssta_atl3_norm_ersst.time[-1].values)[:7]]\n",
    "\n"
   ]
  },
  {
   "cell_type": "code",
   "execution_count": 44,
   "id": "f4cbbf04",
   "metadata": {},
   "outputs": [],
   "source": [
    "import os\n",
    "mail_sender = os.environ.get(\"USERNAME\")\n",
    "password = os.environ.get(\"PASSWORD\")\n",
    "\n"
   ]
  },
  {
   "cell_type": "code",
   "execution_count": 45,
   "id": "48579660",
   "metadata": {},
   "outputs": [
    {
     "data": {
      "text/plain": [
       "(221,\n",
       " b'2.0.0 closing connection bu16-20020a056000079000b00341cd8e04a0sm4902279wrb.105 - gsmtp')"
      ]
     },
     "execution_count": 45,
     "metadata": {},
     "output_type": "execute_result"
    }
   ],
   "source": [
    "import smtplib\n",
    "from email.mime.text import MIMEText\n",
    "from email.mime.multipart import MIMEMultipart\n",
    "\n",
    "# Set your email and password\n",
    "sender_email = mail_sender\n",
    "sender_password = password\n",
    "\n",
    "# Set the recipient email address\n",
    "recipient_email = \"aprigent@ictp.it\"\n",
    "smtp_server = \"smtp.gmail.com\"\n",
    "smtp_port = 587\n",
    "\n",
    "# Start the server\n",
    "server = smtplib.SMTP(smtp_server, smtp_port)\n",
    "server.starttls()\n",
    "\n",
    "# Log in to your Gmail account\n",
    "server.login(sender_email, sender_password)\n",
    "\n",
    "# Create the email message\n",
    "subject = \"Tropical Atlantic Variability update\"\n",
    "body = (\"Hello!\\n\"\n",
    "        f\"Please find at the following link a little update on the current state of the tropics for the last three timesteps:\\n{last_timesteps} \\n\"\n",
    "        \"Last three standardized anomalies from ERSSTv5:\\n\"\n",
    "        f\"ATL3: {np.round(ssta_atl3_norm_ersst[-3:],2).values}. \\n\"\n",
    "        f\"ABA: {np.round(ssta_aba_norm_ersst[-3:],2).values}. \\n\"\n",
    "        f\"NINO3.4: {np.round(ssta_nino34_norm_ersst[-3:],2).values}. \\n\"\n",
    "        f\"DNI: {np.round(ssta_dni_norm_ersst[-3:],2).values}. \\n\"\n",
    "\n",
    "        \"Best regards,\\n\"\n",
    "        \"Arthur Prigent\\n\\n\"\n",
    "        \"https://aprig.github.io/ATL3_ABA_SSTa/automatic_time_series_SST.html\")\n",
    "\n",
    "message = MIMEMultipart()\n",
    "message['From'] = sender_email\n",
    "message['To'] = recipient_email\n",
    "message['Subject'] = subject\n",
    "message.attach(MIMEText(body, 'plain'))\n",
    "\n",
    "# Send the email\n",
    "server.sendmail(sender_email, recipient_email, message.as_string())\n",
    "\n",
    "# Quit the server\n",
    "server.quit()\n"
   ]
  },
  {
   "cell_type": "code",
   "execution_count": null,
   "id": "eb1e38b6",
   "metadata": {},
   "outputs": [],
   "source": []
  }
 ],
 "metadata": {
  "kernelspec": {
   "display_name": "Python 3 (ipykernel)",
   "language": "python",
   "name": "python3"
  },
  "language_info": {
   "codemirror_mode": {
    "name": "ipython",
    "version": 3
   },
   "file_extension": ".py",
   "mimetype": "text/x-python",
   "name": "python",
   "nbconvert_exporter": "python",
   "pygments_lexer": "ipython3",
   "version": "3.11.0"
  }
 },
 "nbformat": 4,
 "nbformat_minor": 5
}
