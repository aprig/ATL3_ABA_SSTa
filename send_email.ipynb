{
 "cells": [
  {
   "cell_type": "code",
   "execution_count": 1,
   "id": "21960134",
   "metadata": {},
   "outputs": [],
   "source": [
    "# Author: Arthur Prigent\n",
    "#EMail: aprigent@ictp.it"
   ]
  },
  {
   "cell_type": "code",
   "execution_count": 2,
   "id": "6f9b2f8c",
   "metadata": {},
   "outputs": [
    {
     "name": "stdout",
     "output_type": "stream",
     "text": [
      "2024-03-27 10:10:12.282356\n"
     ]
    }
   ],
   "source": [
    "# Author: Arthur Prigent\n",
    "# Email: aprigent@ictp.it\n",
    "\n",
    "#### DATA ####\n",
    "# https://downloads.psl.noaa.gov/Datasets/\n",
    "from functions import *\n",
    "import warnings\n",
    "warnings.filterwarnings(\"ignore\")\n",
    "from IPython.display import Image"
   ]
  },
  {
   "cell_type": "code",
   "execution_count": 3,
   "id": "5bbefd7c",
   "metadata": {},
   "outputs": [],
   "source": [
    "path_ersstv5 = 'https://psl.noaa.gov/thredds/dodsC/Datasets/noaa.ersst.v5/sst.mnmean.nc'\n",
    "(ssta_atl3_norm_ersst,ssta_aba_norm_ersst,\n",
    " ssta_nino34_norm_ersst,ssta_dni_norm_ersst,\n",
    " ssta_cni_norm_ersst,ssta_nni_norm_ersst,iod_ersst) = read_data_compute_anomalies_ersstv5(path_ersstv5)"
   ]
  },
  {
   "cell_type": "code",
   "execution_count": 6,
   "id": "4f699d60",
   "metadata": {},
   "outputs": [],
   "source": [
    "last_timesteps = [str(ssta_atl3_norm_ersst.time[-3].values)[:7],\n",
    "str(ssta_atl3_norm_ersst.time[-2].values)[:7],\n",
    "str(ssta_atl3_norm_ersst.time[-1].values)[:7]]\n",
    "\n"
   ]
  },
  {
   "cell_type": "code",
   "execution_count": 5,
   "id": "f4cbbf04",
   "metadata": {},
   "outputs": [],
   "source": [
    "import os\n",
    "mail_sender = os.environ.get(\"USERNAME\")\n",
    "password = os.environ.get(\"PASSWORD\")\n",
    "\n"
   ]
  },
  {
   "cell_type": "code",
   "execution_count": 14,
   "id": "5c3b2a02",
   "metadata": {},
   "outputs": [
    {
     "name": "stdout",
     "output_type": "stream",
     "text": [
      "Emails sent successfully!\n"
     ]
    }
   ],
   "source": [
    "import smtplib\n",
    "from email.mime.text import MIMEText\n",
    "from email.mime.multipart import MIMEMultipart\n",
    "\n",
    "# Email configuration\n",
    "sender_email = mail_sender\n",
    "sender_password = password\n",
    "smtp_server = \"smtp.gmail.com\"\n",
    "smtp_port = 587\n",
    "\n",
    "# List of recipient email addresses\n",
    "recipient_emails = [\"aprigent@ictp.it\",\"ahans@geomar.de\"]\n",
    "\n",
    "# Create the email message\n",
    "subject = \"Tropical Atlantic Variability update\"\n",
    "body = \"\"\"\n",
    "Hello!\n",
    "\n",
    "Please find at the following link a little update on the current state of the tropics for the last three timesteps: {last_timesteps}\n",
    "\n",
    "Last three standardized anomalies from ERSSTv5:\n",
    "ATL3: {ssta_atl3_norm_ersst}\n",
    "ABA: {ssta_aba_norm_ersst}\n",
    "NINO3.4: {ssta_nino34_norm_ersst}\n",
    "DNI: {ssta_dni_norm_ersst}\n",
    "\n",
    "Best regards,\n",
    "Arthur Prigent\n",
    "\n",
    "https://aprig.github.io/ATL3_ABA_SSTa/automatic_time_series_SST.html\n",
    "\"\"\"\n",
    "\n",
    "\n",
    "# Connect to the SMTP server\n",
    "with smtplib.SMTP(smtp_server, smtp_port) as server:\n",
    "    server.starttls()\n",
    "    # Login to your Gmail account\n",
    "    server.login(sender_email, sender_password)\n",
    "    \n",
    "    for recipient_email in recipient_emails:\n",
    "        # Create the email message\n",
    "        message = MIMEMultipart()\n",
    "        message['From'] = sender_email\n",
    "        message['To'] = recipient_email\n",
    "        message['Subject'] = subject\n",
    "\n",
    "        formatted_body = body.format(\n",
    "            last_timesteps=last_timesteps,\n",
    "            ssta_atl3_norm_ersst=np.round(ssta_atl3_norm_ersst[-3:],2).values,\n",
    "            ssta_aba_norm_ersst=np.round(ssta_aba_norm_ersst[-3:],2).values,\n",
    "            ssta_nino34_norm_ersst=np.round(ssta_nino34_norm_ersst[-3:],2).values,\n",
    "            ssta_dni_norm_ersst=np.round(ssta_dni_norm_ersst[-3:],2).values\n",
    "        )\n",
    "        message.attach(MIMEText(formatted_body, 'plain'))\n",
    "\n",
    "        # Send the email\n",
    "        server.sendmail(sender_email, recipient_email, message.as_string())\n",
    "\n",
    "# Quit the server\n",
    "print(\"Emails sent successfully!\")\n"
   ]
  },
  {
   "cell_type": "code",
   "execution_count": null,
   "id": "7b3ebfa9",
   "metadata": {},
   "outputs": [],
   "source": []
  }
 ],
 "metadata": {
  "kernelspec": {
   "display_name": "Python 3 (ipykernel)",
   "language": "python",
   "name": "python3"
  },
  "language_info": {
   "codemirror_mode": {
    "name": "ipython",
    "version": 3
   },
   "file_extension": ".py",
   "mimetype": "text/x-python",
   "name": "python",
   "nbconvert_exporter": "python",
   "pygments_lexer": "ipython3",
   "version": "3.11.0"
  }
 },
 "nbformat": 4,
 "nbformat_minor": 5
}
