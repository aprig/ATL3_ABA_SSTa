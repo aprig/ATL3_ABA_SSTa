{
 "cells": [
  {
   "cell_type": "code",
   "execution_count": 1,
   "id": "6f9b2f8c",
   "metadata": {},
   "outputs": [
    {
     "name": "stdout",
     "output_type": "stream",
     "text": [
      "2024-04-01 17:14:42.361533\n"
     ]
    }
   ],
   "source": [
    "# Author: Arthur Prigent\n",
    "# Email: aprigent@ictp.it\n",
    "\n",
    "#### DATA ####\n",
    "# https://downloads.psl.noaa.gov/Datasets/\n",
    "from functions import *\n",
    "import warnings\n",
    "warnings.filterwarnings(\"ignore\")\n",
    "from IPython.display import Image"
   ]
  },
  {
   "cell_type": "code",
   "execution_count": 4,
   "id": "5bbefd7c",
   "metadata": {},
   "outputs": [],
   "source": [
    "path_ersstv5 = 'https://psl.noaa.gov/thredds/dodsC/Datasets/noaa.ersst.v5/sst.mnmean.nc'\n",
    "(ssta_atl3_ersst,ssta_aba_ersst,\n",
    " ssta_nino34_ersst,ssta_dni_ersst,\n",
    " ssta_cni_ersst,ssta_nni_ersst,iod_ersst) = read_data_compute_anomalies_ersstv5_for_mail(path_ersstv5)"
   ]
  },
  {
   "cell_type": "code",
   "execution_count": 8,
   "id": "5d7ebe91",
   "metadata": {},
   "outputs": [],
   "source": [
    "ssta_atl3_norm_ersst = ssta_atl3_ersst/ssta_atl3_ersst.std(dim='time')\n",
    "ssta_aba_norm_ersst = ssta_aba_ersst/ssta_aba_ersst.std(dim='time')\n",
    "ssta_nino34_norm_ersst = ssta_nino34_ersst/ssta_nino34_ersst.std(dim='time')\n",
    "ssta_dni_norm_ersst = ssta_dni_ersst/ssta_dni_ersst.std(dim='time')\n",
    "\n"
   ]
  },
  {
   "cell_type": "code",
   "execution_count": 9,
   "id": "4f699d60",
   "metadata": {},
   "outputs": [],
   "source": [
    "last_timesteps = [str(ssta_atl3_ersst.time[-3].values)[:7],\n",
    "str(ssta_atl3_ersst.time[-2].values)[:7],\n",
    "str(ssta_atl3_ersst.time[-1].values)[:7]]\n",
    "\n"
   ]
  },
  {
   "cell_type": "code",
   "execution_count": 10,
   "id": "f4cbbf04",
   "metadata": {},
   "outputs": [],
   "source": [
    "import os\n",
    "mail_sender = os.environ.get(\"USERNAME\")\n",
    "password = os.environ.get(\"PASSWORD\")\n",
    "\n"
   ]
  },
  {
   "cell_type": "code",
   "execution_count": 7,
   "id": "5c3b2a02",
   "metadata": {},
   "outputs": [
    {
     "ename": "UnicodeEncodeError",
     "evalue": "'ascii' codec can't encode character '\\xa0' in position 32: ordinal not in range(128)",
     "output_type": "error",
     "traceback": [
      "\u001b[0;31m---------------------------------------------------------------------------\u001b[0m",
      "\u001b[0;31mUnicodeEncodeError\u001b[0m                        Traceback (most recent call last)",
      "Cell \u001b[0;32mIn[7], line 38\u001b[0m\n\u001b[1;32m     36\u001b[0m server\u001b[38;5;241m.\u001b[39mstarttls()\n\u001b[1;32m     37\u001b[0m \u001b[38;5;66;03m# Login to your Gmail account\u001b[39;00m\n\u001b[0;32m---> 38\u001b[0m \u001b[43mserver\u001b[49m\u001b[38;5;241;43m.\u001b[39;49m\u001b[43mlogin\u001b[49m\u001b[43m(\u001b[49m\u001b[43msender_email\u001b[49m\u001b[43m,\u001b[49m\u001b[43m \u001b[49m\u001b[43msender_password\u001b[49m\u001b[43m)\u001b[49m\n\u001b[1;32m     40\u001b[0m \u001b[38;5;28;01mfor\u001b[39;00m recipient_email \u001b[38;5;129;01min\u001b[39;00m recipient_emails:\n\u001b[1;32m     41\u001b[0m     \u001b[38;5;66;03m# Create the email message\u001b[39;00m\n\u001b[1;32m     42\u001b[0m     message \u001b[38;5;241m=\u001b[39m MIMEMultipart()\n",
      "File \u001b[0;32m~/miniconda3/envs/py3_std/lib/python3.11/smtplib.py:739\u001b[0m, in \u001b[0;36mSMTP.login\u001b[0;34m(self, user, password, initial_response_ok)\u001b[0m\n\u001b[1;32m    737\u001b[0m method_name \u001b[38;5;241m=\u001b[39m \u001b[38;5;124m'\u001b[39m\u001b[38;5;124mauth_\u001b[39m\u001b[38;5;124m'\u001b[39m \u001b[38;5;241m+\u001b[39m authmethod\u001b[38;5;241m.\u001b[39mlower()\u001b[38;5;241m.\u001b[39mreplace(\u001b[38;5;124m'\u001b[39m\u001b[38;5;124m-\u001b[39m\u001b[38;5;124m'\u001b[39m, \u001b[38;5;124m'\u001b[39m\u001b[38;5;124m_\u001b[39m\u001b[38;5;124m'\u001b[39m)\n\u001b[1;32m    738\u001b[0m \u001b[38;5;28;01mtry\u001b[39;00m:\n\u001b[0;32m--> 739\u001b[0m     (code, resp) \u001b[38;5;241m=\u001b[39m \u001b[38;5;28;43mself\u001b[39;49m\u001b[38;5;241;43m.\u001b[39;49m\u001b[43mauth\u001b[49m\u001b[43m(\u001b[49m\n\u001b[1;32m    740\u001b[0m \u001b[43m        \u001b[49m\u001b[43mauthmethod\u001b[49m\u001b[43m,\u001b[49m\u001b[43m \u001b[49m\u001b[38;5;28;43mgetattr\u001b[39;49m\u001b[43m(\u001b[49m\u001b[38;5;28;43mself\u001b[39;49m\u001b[43m,\u001b[49m\u001b[43m \u001b[49m\u001b[43mmethod_name\u001b[49m\u001b[43m)\u001b[49m\u001b[43m,\u001b[49m\n\u001b[1;32m    741\u001b[0m \u001b[43m        \u001b[49m\u001b[43minitial_response_ok\u001b[49m\u001b[38;5;241;43m=\u001b[39;49m\u001b[43minitial_response_ok\u001b[49m\u001b[43m)\u001b[49m\n\u001b[1;32m    742\u001b[0m     \u001b[38;5;66;03m# 235 == 'Authentication successful'\u001b[39;00m\n\u001b[1;32m    743\u001b[0m     \u001b[38;5;66;03m# 503 == 'Error: already authenticated'\u001b[39;00m\n\u001b[1;32m    744\u001b[0m     \u001b[38;5;28;01mif\u001b[39;00m code \u001b[38;5;129;01min\u001b[39;00m (\u001b[38;5;241m235\u001b[39m, \u001b[38;5;241m503\u001b[39m):\n",
      "File \u001b[0;32m~/miniconda3/envs/py3_std/lib/python3.11/smtplib.py:641\u001b[0m, in \u001b[0;36mSMTP.auth\u001b[0;34m(self, mechanism, authobject, initial_response_ok)\u001b[0m\n\u001b[1;32m    639\u001b[0m initial_response \u001b[38;5;241m=\u001b[39m (authobject() \u001b[38;5;28;01mif\u001b[39;00m initial_response_ok \u001b[38;5;28;01melse\u001b[39;00m \u001b[38;5;28;01mNone\u001b[39;00m)\n\u001b[1;32m    640\u001b[0m \u001b[38;5;28;01mif\u001b[39;00m initial_response \u001b[38;5;129;01mis\u001b[39;00m \u001b[38;5;129;01mnot\u001b[39;00m \u001b[38;5;28;01mNone\u001b[39;00m:\n\u001b[0;32m--> 641\u001b[0m     response \u001b[38;5;241m=\u001b[39m encode_base64(\u001b[43minitial_response\u001b[49m\u001b[38;5;241;43m.\u001b[39;49m\u001b[43mencode\u001b[49m\u001b[43m(\u001b[49m\u001b[38;5;124;43m'\u001b[39;49m\u001b[38;5;124;43mascii\u001b[39;49m\u001b[38;5;124;43m'\u001b[39;49m\u001b[43m)\u001b[49m, eol\u001b[38;5;241m=\u001b[39m\u001b[38;5;124m'\u001b[39m\u001b[38;5;124m'\u001b[39m)\n\u001b[1;32m    642\u001b[0m     (code, resp) \u001b[38;5;241m=\u001b[39m \u001b[38;5;28mself\u001b[39m\u001b[38;5;241m.\u001b[39mdocmd(\u001b[38;5;124m\"\u001b[39m\u001b[38;5;124mAUTH\u001b[39m\u001b[38;5;124m\"\u001b[39m, mechanism \u001b[38;5;241m+\u001b[39m \u001b[38;5;124m\"\u001b[39m\u001b[38;5;124m \u001b[39m\u001b[38;5;124m\"\u001b[39m \u001b[38;5;241m+\u001b[39m response)\n\u001b[1;32m    643\u001b[0m     \u001b[38;5;28mself\u001b[39m\u001b[38;5;241m.\u001b[39m_auth_challenge_count \u001b[38;5;241m=\u001b[39m \u001b[38;5;241m1\u001b[39m\n",
      "\u001b[0;31mUnicodeEncodeError\u001b[0m: 'ascii' codec can't encode character '\\xa0' in position 32: ordinal not in range(128)"
     ]
    }
   ],
   "source": [
    "import smtplib\n",
    "from email.mime.text import MIMEText\n",
    "from email.mime.multipart import MIMEMultipart\n",
    "\n",
    "# Email configuration\n",
    "sender_email = mail_sender\n",
    "sender_password = password\n",
    "smtp_server = \"smtp.gmail.com\"\n",
    "smtp_port = 587\n",
    "\n",
    "# List of recipient email addresses\n",
    "recipient_emails = [\"aprigent@ictp.it\"] #\"ahans@geomar.de\"\n",
    "\n",
    "# Create the email message\n",
    "subject = \"Tropical Atlantic Variability update\"\n",
    "body = \"\"\"\n",
    "Hello!\n",
    "\n",
    "Please find at the following link a little update on the current state of the tropics for the last three timesteps: {last_timesteps}\n",
    "\n",
    "Last three standardized anomalies from ERSSTv5:\n",
    "ATL3 ({std_atl3} degC): {ssta_atl3_norm_ersst} degC\n",
    "ABA ({std_aba} degC): {ssta_aba_norm_ersst} degC\n",
    "NINO3.4 ({std_nino34} degC): {ssta_nino34_norm_ersst} degC\n",
    "DNI ({std_dni} degC): {ssta_dni_norm_ersst} degC\n",
    "IOD : {iod_ersst} degC\n",
    "\n",
    "Best regards,\n",
    "Arthur Prigent\n",
    "\n",
    "https://aprig.github.io/ATL3_ABA_SSTa/automatic_time_series_SST.html\n",
    "\"\"\"\n",
    "\n",
    "\n",
    "# Connect to the SMTP server\n",
    "with smtplib.SMTP(smtp_server, smtp_port) as server:\n",
    "    server.starttls()\n",
    "    # Login to your Gmail account\n",
    "    server.login(sender_email, sender_password)\n",
    "    \n",
    "    for recipient_email in recipient_emails:\n",
    "        # Create the email message\n",
    "        message = MIMEMultipart()\n",
    "        message['From'] = sender_email\n",
    "        message['To'] = recipient_email\n",
    "        message['Subject'] = subject\n",
    "\n",
    "        formatted_body = body.format(\n",
    "            last_timesteps=last_timesteps,\n",
    "            std_atl3 = np.round(ssta_atl3_ersst.std(dim='time'),2).values,\n",
    "            std_aba = np.round(ssta_aba_ersst.std(dim='time'),2).values,\n",
    "            std_nino34 = np.round(ssta_nino34_ersst.std(dim='time'),2).values,\n",
    "            std_dni = np.round(ssta_dni_ersst.std(dim='time'),2).values,\n",
    "            ssta_atl3_norm_ersst=np.round(ssta_atl3_ersst[-3:],2).values,\n",
    "            ssta_aba_norm_ersst=np.round(ssta_aba_ersst[-3:],2).values,\n",
    "            ssta_nino34_norm_ersst=np.round(ssta_nino34_ersst[-3:],2).values,\n",
    "            ssta_dni_norm_ersst=np.round(ssta_dni_ersst[-3:],2).values,\n",
    "            iod_ersst=np.round(iod_ersst[-3:],2).values\n",
    "            \n",
    "        )\n",
    "        message.attach(MIMEText(formatted_body, 'plain'))\n",
    "\n",
    "        # Send the email\n",
    "        server.sendmail(sender_email, recipient_email, message.as_string())\n",
    "\n",
    "# Quit the server\n",
    "print(\"Emails sent successfully!\")\n"
   ]
  },
  {
   "cell_type": "code",
   "execution_count": null,
   "id": "7b3ebfa9",
   "metadata": {},
   "outputs": [],
   "source": []
  }
 ],
 "metadata": {
  "kernelspec": {
   "display_name": "Python 3 (ipykernel)",
   "language": "python",
   "name": "python3"
  },
  "language_info": {
   "codemirror_mode": {
    "name": "ipython",
    "version": 3
   },
   "file_extension": ".py",
   "mimetype": "text/x-python",
   "name": "python",
   "nbconvert_exporter": "python",
   "pygments_lexer": "ipython3",
   "version": "3.11.0"
  }
 },
 "nbformat": 4,
 "nbformat_minor": 5
}
